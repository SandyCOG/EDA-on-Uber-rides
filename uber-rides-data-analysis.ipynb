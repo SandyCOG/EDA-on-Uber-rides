{
 "cells": [
  {
   "cell_type": "markdown",
   "metadata": {},
   "source": [
    "# Uber-rides-data-analysis\n",
    "\n",
    "Use the \"Run\" button to execute the code."
   ]
  },
  {
   "cell_type": "code",
   "execution_count": 112,
   "metadata": {},
   "outputs": [],
   "source": [
    "!pip install jovian --upgrade --quiet"
   ]
  },
  {
   "cell_type": "code",
   "execution_count": 113,
   "metadata": {},
   "outputs": [],
   "source": [
    "import jovian"
   ]
  },
  {
   "cell_type": "code",
   "execution_count": 114,
   "metadata": {},
   "outputs": [
    {
     "data": {
      "application/javascript": [
       "window.require && require([\"base/js/namespace\"],function(Jupyter){Jupyter.notebook.save_checkpoint()})"
      ],
      "text/plain": [
       "<IPython.core.display.Javascript object>"
      ]
     },
     "metadata": {},
     "output_type": "display_data"
    },
    {
     "name": "stdout",
     "output_type": "stream",
     "text": [
      "[jovian] Updating notebook \"iguedeominiabohs/uber-rides-data-analysis\" on https://jovian.ai\u001b[0m\n",
      "[jovian] Committed successfully! https://jovian.ai/iguedeominiabohs/uber-rides-data-analysis\u001b[0m\n"
     ]
    },
    {
     "data": {
      "text/plain": [
       "'https://jovian.ai/iguedeominiabohs/uber-rides-data-analysis'"
      ]
     },
     "execution_count": 114,
     "metadata": {},
     "output_type": "execute_result"
    }
   ],
   "source": [
    "# Execute this to save new versions of the notebook\n",
    "jovian.commit(project=\"uber-rides-data-analysis\")"
   ]
  },
  {
   "cell_type": "markdown",
   "metadata": {},
   "source": [
    "# INTRODUCTION"
   ]
  },
  {
   "cell_type": "markdown",
   "metadata": {},
   "source": [
    " This project carries out an exploratory data analysis on 1,115 Uber rides in 2016. The dataset can be found [here]('https://www.kaggle.com/suiyue/uber-rides-dataset-2016-analysis/data?select=My+Uber+Drives+-+2016.csv'). It contains information about start date, end date, start location, end location, Miles Driven and Purpose of drive (Business, Personal, Meals, Errands, Meetings, Customer Support etc.) Questions I wish to answer with the dataset include:\n",
    "\n",
    "- What was the total miles travelled in 2016?\n",
    "- What month had the highest number of trips?\n",
    "- What is the most popular category?\n",
    "- What was the most visited location?\n"
   ]
  },
  {
   "cell_type": "markdown",
   "metadata": {},
   "source": [
    "## IMPORT LIBRARIES"
   ]
  },
  {
   "cell_type": "code",
   "execution_count": 115,
   "metadata": {},
   "outputs": [],
   "source": [
    "import numpy as np\n",
    "import pandas as pd\n",
    "import seaborn as sns\n",
    "import matplotlib.pyplot as plt\n",
    "%matplotlib inline"
   ]
  },
  {
   "cell_type": "markdown",
   "metadata": {},
   "source": [
    "## LOAD DATASET"
   ]
  },
  {
   "cell_type": "code",
   "execution_count": 116,
   "metadata": {},
   "outputs": [
    {
     "data": {
      "text/html": [
       "<div>\n",
       "<style scoped>\n",
       "    .dataframe tbody tr th:only-of-type {\n",
       "        vertical-align: middle;\n",
       "    }\n",
       "\n",
       "    .dataframe tbody tr th {\n",
       "        vertical-align: top;\n",
       "    }\n",
       "\n",
       "    .dataframe thead th {\n",
       "        text-align: right;\n",
       "    }\n",
       "</style>\n",
       "<table border=\"1\" class=\"dataframe\">\n",
       "  <thead>\n",
       "    <tr style=\"text-align: right;\">\n",
       "      <th></th>\n",
       "      <th>START_DATE*</th>\n",
       "      <th>END_DATE*</th>\n",
       "      <th>CATEGORY*</th>\n",
       "      <th>START*</th>\n",
       "      <th>STOP*</th>\n",
       "      <th>MILES*</th>\n",
       "      <th>PURPOSE*</th>\n",
       "    </tr>\n",
       "  </thead>\n",
       "  <tbody>\n",
       "    <tr>\n",
       "      <th>0</th>\n",
       "      <td>1/1/2016 21:11</td>\n",
       "      <td>1/1/2016 21:17</td>\n",
       "      <td>Business</td>\n",
       "      <td>Fort Pierce</td>\n",
       "      <td>Fort Pierce</td>\n",
       "      <td>5.1</td>\n",
       "      <td>Meal/Entertain</td>\n",
       "    </tr>\n",
       "    <tr>\n",
       "      <th>1</th>\n",
       "      <td>1/2/2016 1:25</td>\n",
       "      <td>1/2/2016 1:37</td>\n",
       "      <td>Business</td>\n",
       "      <td>Fort Pierce</td>\n",
       "      <td>Fort Pierce</td>\n",
       "      <td>5.0</td>\n",
       "      <td>NaN</td>\n",
       "    </tr>\n",
       "    <tr>\n",
       "      <th>2</th>\n",
       "      <td>1/2/2016 20:25</td>\n",
       "      <td>1/2/2016 20:38</td>\n",
       "      <td>Business</td>\n",
       "      <td>Fort Pierce</td>\n",
       "      <td>Fort Pierce</td>\n",
       "      <td>4.8</td>\n",
       "      <td>Errand/Supplies</td>\n",
       "    </tr>\n",
       "    <tr>\n",
       "      <th>3</th>\n",
       "      <td>1/5/2016 17:31</td>\n",
       "      <td>1/5/2016 17:45</td>\n",
       "      <td>Business</td>\n",
       "      <td>Fort Pierce</td>\n",
       "      <td>Fort Pierce</td>\n",
       "      <td>4.7</td>\n",
       "      <td>Meeting</td>\n",
       "    </tr>\n",
       "    <tr>\n",
       "      <th>4</th>\n",
       "      <td>1/6/2016 14:42</td>\n",
       "      <td>1/6/2016 15:49</td>\n",
       "      <td>Business</td>\n",
       "      <td>Fort Pierce</td>\n",
       "      <td>West Palm Beach</td>\n",
       "      <td>63.7</td>\n",
       "      <td>Customer Visit</td>\n",
       "    </tr>\n",
       "  </tbody>\n",
       "</table>\n",
       "</div>"
      ],
      "text/plain": [
       "      START_DATE*       END_DATE* CATEGORY*       START*            STOP*  \\\n",
       "0  1/1/2016 21:11  1/1/2016 21:17  Business  Fort Pierce      Fort Pierce   \n",
       "1   1/2/2016 1:25   1/2/2016 1:37  Business  Fort Pierce      Fort Pierce   \n",
       "2  1/2/2016 20:25  1/2/2016 20:38  Business  Fort Pierce      Fort Pierce   \n",
       "3  1/5/2016 17:31  1/5/2016 17:45  Business  Fort Pierce      Fort Pierce   \n",
       "4  1/6/2016 14:42  1/6/2016 15:49  Business  Fort Pierce  West Palm Beach   \n",
       "\n",
       "   MILES*         PURPOSE*  \n",
       "0     5.1   Meal/Entertain  \n",
       "1     5.0              NaN  \n",
       "2     4.8  Errand/Supplies  \n",
       "3     4.7          Meeting  \n",
       "4    63.7   Customer Visit  "
      ]
     },
     "execution_count": 116,
     "metadata": {},
     "output_type": "execute_result"
    }
   ],
   "source": [
    "df = pd.read_csv('Uber Drives - .csv')\n",
    "df.head()"
   ]
  },
  {
   "cell_type": "code",
   "execution_count": 117,
   "metadata": {},
   "outputs": [
    {
     "name": "stdout",
     "output_type": "stream",
     "text": [
      "<class 'pandas.core.frame.DataFrame'>\n",
      "RangeIndex: 1156 entries, 0 to 1155\n",
      "Data columns (total 7 columns):\n",
      " #   Column       Non-Null Count  Dtype  \n",
      "---  ------       --------------  -----  \n",
      " 0   START_DATE*  1156 non-null   object \n",
      " 1   END_DATE*    1155 non-null   object \n",
      " 2   CATEGORY*    1155 non-null   object \n",
      " 3   START*       1155 non-null   object \n",
      " 4   STOP*        1155 non-null   object \n",
      " 5   MILES*       1156 non-null   float64\n",
      " 6   PURPOSE*     653 non-null    object \n",
      "dtypes: float64(1), object(6)\n",
      "memory usage: 63.3+ KB\n"
     ]
    }
   ],
   "source": [
    "df.info()"
   ]
  },
  {
   "cell_type": "code",
   "execution_count": 118,
   "metadata": {},
   "outputs": [
    {
     "data": {
      "text/plain": [
       "Index(['START_DATE*', 'END_DATE*', 'CATEGORY*', 'START*', 'STOP*', 'MILES*',\n",
       "       'PURPOSE*'],\n",
       "      dtype='object')"
      ]
     },
     "execution_count": 118,
     "metadata": {},
     "output_type": "execute_result"
    }
   ],
   "source": [
    "df.columns"
   ]
  },
  {
   "cell_type": "code",
   "execution_count": 119,
   "metadata": {},
   "outputs": [
    {
     "data": {
      "text/html": [
       "<div>\n",
       "<style scoped>\n",
       "    .dataframe tbody tr th:only-of-type {\n",
       "        vertical-align: middle;\n",
       "    }\n",
       "\n",
       "    .dataframe tbody tr th {\n",
       "        vertical-align: top;\n",
       "    }\n",
       "\n",
       "    .dataframe thead th {\n",
       "        text-align: right;\n",
       "    }\n",
       "</style>\n",
       "<table border=\"1\" class=\"dataframe\">\n",
       "  <thead>\n",
       "    <tr style=\"text-align: right;\">\n",
       "      <th></th>\n",
       "      <th>Start_date</th>\n",
       "      <th>End_date</th>\n",
       "      <th>Category</th>\n",
       "      <th>Start_location</th>\n",
       "      <th>Stop_location</th>\n",
       "      <th>Miles</th>\n",
       "      <th>Purpose</th>\n",
       "    </tr>\n",
       "  </thead>\n",
       "  <tbody>\n",
       "    <tr>\n",
       "      <th>0</th>\n",
       "      <td>1/1/2016 21:11</td>\n",
       "      <td>1/1/2016 21:17</td>\n",
       "      <td>Business</td>\n",
       "      <td>Fort Pierce</td>\n",
       "      <td>Fort Pierce</td>\n",
       "      <td>5.1</td>\n",
       "      <td>Meal/Entertain</td>\n",
       "    </tr>\n",
       "    <tr>\n",
       "      <th>1</th>\n",
       "      <td>1/2/2016 1:25</td>\n",
       "      <td>1/2/2016 1:37</td>\n",
       "      <td>Business</td>\n",
       "      <td>Fort Pierce</td>\n",
       "      <td>Fort Pierce</td>\n",
       "      <td>5.0</td>\n",
       "      <td>NaN</td>\n",
       "    </tr>\n",
       "    <tr>\n",
       "      <th>2</th>\n",
       "      <td>1/2/2016 20:25</td>\n",
       "      <td>1/2/2016 20:38</td>\n",
       "      <td>Business</td>\n",
       "      <td>Fort Pierce</td>\n",
       "      <td>Fort Pierce</td>\n",
       "      <td>4.8</td>\n",
       "      <td>Errand/Supplies</td>\n",
       "    </tr>\n",
       "    <tr>\n",
       "      <th>3</th>\n",
       "      <td>1/5/2016 17:31</td>\n",
       "      <td>1/5/2016 17:45</td>\n",
       "      <td>Business</td>\n",
       "      <td>Fort Pierce</td>\n",
       "      <td>Fort Pierce</td>\n",
       "      <td>4.7</td>\n",
       "      <td>Meeting</td>\n",
       "    </tr>\n",
       "    <tr>\n",
       "      <th>4</th>\n",
       "      <td>1/6/2016 14:42</td>\n",
       "      <td>1/6/2016 15:49</td>\n",
       "      <td>Business</td>\n",
       "      <td>Fort Pierce</td>\n",
       "      <td>West Palm Beach</td>\n",
       "      <td>63.7</td>\n",
       "      <td>Customer Visit</td>\n",
       "    </tr>\n",
       "  </tbody>\n",
       "</table>\n",
       "</div>"
      ],
      "text/plain": [
       "       Start_date        End_date  Category Start_location    Stop_location  \\\n",
       "0  1/1/2016 21:11  1/1/2016 21:17  Business    Fort Pierce      Fort Pierce   \n",
       "1   1/2/2016 1:25   1/2/2016 1:37  Business    Fort Pierce      Fort Pierce   \n",
       "2  1/2/2016 20:25  1/2/2016 20:38  Business    Fort Pierce      Fort Pierce   \n",
       "3  1/5/2016 17:31  1/5/2016 17:45  Business    Fort Pierce      Fort Pierce   \n",
       "4  1/6/2016 14:42  1/6/2016 15:49  Business    Fort Pierce  West Palm Beach   \n",
       "\n",
       "   Miles          Purpose  \n",
       "0    5.1   Meal/Entertain  \n",
       "1    5.0              NaN  \n",
       "2    4.8  Errand/Supplies  \n",
       "3    4.7          Meeting  \n",
       "4   63.7   Customer Visit  "
      ]
     },
     "execution_count": 119,
     "metadata": {},
     "output_type": "execute_result"
    }
   ],
   "source": [
    "#Renaming columns to simplify them and remove asterisk(*) from column names\n",
    "df.columns = ['Start_date','End_date','Category','Start_location','Stop_location','Miles','Purpose']\n",
    "df.head()"
   ]
  },
  {
   "cell_type": "code",
   "execution_count": 120,
   "metadata": {},
   "outputs": [
    {
     "data": {
      "text/plain": [
       "Start_date          0\n",
       "End_date            1\n",
       "Category            1\n",
       "Start_location      1\n",
       "Stop_location       1\n",
       "Miles               0\n",
       "Purpose           503\n",
       "dtype: int64"
      ]
     },
     "execution_count": 120,
     "metadata": {},
     "output_type": "execute_result"
    }
   ],
   "source": [
    "#checking for missing values\n",
    "df.isnull().sum()"
   ]
  },
  {
   "cell_type": "code",
   "execution_count": 121,
   "metadata": {},
   "outputs": [
    {
     "data": {
      "text/html": [
       "<div>\n",
       "<style scoped>\n",
       "    .dataframe tbody tr th:only-of-type {\n",
       "        vertical-align: middle;\n",
       "    }\n",
       "\n",
       "    .dataframe tbody tr th {\n",
       "        vertical-align: top;\n",
       "    }\n",
       "\n",
       "    .dataframe thead th {\n",
       "        text-align: right;\n",
       "    }\n",
       "</style>\n",
       "<table border=\"1\" class=\"dataframe\">\n",
       "  <thead>\n",
       "    <tr style=\"text-align: right;\">\n",
       "      <th></th>\n",
       "      <th>Start_date</th>\n",
       "      <th>End_date</th>\n",
       "      <th>Category</th>\n",
       "      <th>Start_location</th>\n",
       "      <th>Stop_location</th>\n",
       "      <th>Miles</th>\n",
       "      <th>Purpose</th>\n",
       "    </tr>\n",
       "  </thead>\n",
       "  <tbody>\n",
       "    <tr>\n",
       "      <th>0</th>\n",
       "      <td>1/1/2016 21:11</td>\n",
       "      <td>1/1/2016 21:17</td>\n",
       "      <td>Business</td>\n",
       "      <td>Fort Pierce</td>\n",
       "      <td>Fort Pierce</td>\n",
       "      <td>5.1</td>\n",
       "      <td>Meal/Entertain</td>\n",
       "    </tr>\n",
       "    <tr>\n",
       "      <th>1</th>\n",
       "      <td>1/2/2016 1:25</td>\n",
       "      <td>1/2/2016 1:37</td>\n",
       "      <td>Business</td>\n",
       "      <td>Fort Pierce</td>\n",
       "      <td>Fort Pierce</td>\n",
       "      <td>5.0</td>\n",
       "      <td>Unknown</td>\n",
       "    </tr>\n",
       "    <tr>\n",
       "      <th>2</th>\n",
       "      <td>1/2/2016 20:25</td>\n",
       "      <td>1/2/2016 20:38</td>\n",
       "      <td>Business</td>\n",
       "      <td>Fort Pierce</td>\n",
       "      <td>Fort Pierce</td>\n",
       "      <td>4.8</td>\n",
       "      <td>Errand/Supplies</td>\n",
       "    </tr>\n",
       "    <tr>\n",
       "      <th>3</th>\n",
       "      <td>1/5/2016 17:31</td>\n",
       "      <td>1/5/2016 17:45</td>\n",
       "      <td>Business</td>\n",
       "      <td>Fort Pierce</td>\n",
       "      <td>Fort Pierce</td>\n",
       "      <td>4.7</td>\n",
       "      <td>Meeting</td>\n",
       "    </tr>\n",
       "    <tr>\n",
       "      <th>4</th>\n",
       "      <td>1/6/2016 14:42</td>\n",
       "      <td>1/6/2016 15:49</td>\n",
       "      <td>Business</td>\n",
       "      <td>Fort Pierce</td>\n",
       "      <td>West Palm Beach</td>\n",
       "      <td>63.7</td>\n",
       "      <td>Customer Visit</td>\n",
       "    </tr>\n",
       "  </tbody>\n",
       "</table>\n",
       "</div>"
      ],
      "text/plain": [
       "       Start_date        End_date  Category Start_location    Stop_location  \\\n",
       "0  1/1/2016 21:11  1/1/2016 21:17  Business    Fort Pierce      Fort Pierce   \n",
       "1   1/2/2016 1:25   1/2/2016 1:37  Business    Fort Pierce      Fort Pierce   \n",
       "2  1/2/2016 20:25  1/2/2016 20:38  Business    Fort Pierce      Fort Pierce   \n",
       "3  1/5/2016 17:31  1/5/2016 17:45  Business    Fort Pierce      Fort Pierce   \n",
       "4  1/6/2016 14:42  1/6/2016 15:49  Business    Fort Pierce  West Palm Beach   \n",
       "\n",
       "   Miles          Purpose  \n",
       "0    5.1   Meal/Entertain  \n",
       "1    5.0          Unknown  \n",
       "2    4.8  Errand/Supplies  \n",
       "3    4.7          Meeting  \n",
       "4   63.7   Customer Visit  "
      ]
     },
     "execution_count": 121,
     "metadata": {},
     "output_type": "execute_result"
    }
   ],
   "source": [
    "#Filling missing values in Purpose column with 'Unknown'\n",
    "df['Purpose'] = df['Purpose'].fillna(\"Unknown\")\n",
    "df.head()"
   ]
  },
  {
   "cell_type": "code",
   "execution_count": 122,
   "metadata": {},
   "outputs": [
    {
     "data": {
      "text/plain": [
       "Start_date        0\n",
       "End_date          0\n",
       "Category          0\n",
       "Start_location    0\n",
       "Stop_location     0\n",
       "Miles             0\n",
       "Purpose           0\n",
       "dtype: int64"
      ]
     },
     "execution_count": 122,
     "metadata": {},
     "output_type": "execute_result"
    }
   ],
   "source": [
    "#dropping missing values in other columns and theen verifying they have been dropped\n",
    "df = df.dropna()\n",
    "df.isnull().sum()"
   ]
  },
  {
   "cell_type": "code",
   "execution_count": 123,
   "metadata": {},
   "outputs": [
    {
     "data": {
      "text/html": [
       "<div>\n",
       "<style scoped>\n",
       "    .dataframe tbody tr th:only-of-type {\n",
       "        vertical-align: middle;\n",
       "    }\n",
       "\n",
       "    .dataframe tbody tr th {\n",
       "        vertical-align: top;\n",
       "    }\n",
       "\n",
       "    .dataframe thead th {\n",
       "        text-align: right;\n",
       "    }\n",
       "</style>\n",
       "<table border=\"1\" class=\"dataframe\">\n",
       "  <thead>\n",
       "    <tr style=\"text-align: right;\">\n",
       "      <th></th>\n",
       "      <th>Start_date</th>\n",
       "      <th>End_date</th>\n",
       "      <th>Category</th>\n",
       "      <th>Start_location</th>\n",
       "      <th>Stop_location</th>\n",
       "      <th>Miles</th>\n",
       "      <th>Purpose</th>\n",
       "    </tr>\n",
       "  </thead>\n",
       "  <tbody>\n",
       "    <tr>\n",
       "      <th>0</th>\n",
       "      <td>2016-01-01 21:11:00</td>\n",
       "      <td>2016-01-01 21:17:00</td>\n",
       "      <td>Business</td>\n",
       "      <td>Fort Pierce</td>\n",
       "      <td>Fort Pierce</td>\n",
       "      <td>5.1</td>\n",
       "      <td>Meal/Entertain</td>\n",
       "    </tr>\n",
       "    <tr>\n",
       "      <th>1</th>\n",
       "      <td>2016-01-02 01:25:00</td>\n",
       "      <td>2016-01-02 01:37:00</td>\n",
       "      <td>Business</td>\n",
       "      <td>Fort Pierce</td>\n",
       "      <td>Fort Pierce</td>\n",
       "      <td>5.0</td>\n",
       "      <td>Unknown</td>\n",
       "    </tr>\n",
       "    <tr>\n",
       "      <th>2</th>\n",
       "      <td>2016-01-02 20:25:00</td>\n",
       "      <td>2016-01-02 20:38:00</td>\n",
       "      <td>Business</td>\n",
       "      <td>Fort Pierce</td>\n",
       "      <td>Fort Pierce</td>\n",
       "      <td>4.8</td>\n",
       "      <td>Errand/Supplies</td>\n",
       "    </tr>\n",
       "    <tr>\n",
       "      <th>3</th>\n",
       "      <td>2016-01-05 17:31:00</td>\n",
       "      <td>2016-01-05 17:45:00</td>\n",
       "      <td>Business</td>\n",
       "      <td>Fort Pierce</td>\n",
       "      <td>Fort Pierce</td>\n",
       "      <td>4.7</td>\n",
       "      <td>Meeting</td>\n",
       "    </tr>\n",
       "    <tr>\n",
       "      <th>4</th>\n",
       "      <td>2016-01-06 14:42:00</td>\n",
       "      <td>2016-01-06 15:49:00</td>\n",
       "      <td>Business</td>\n",
       "      <td>Fort Pierce</td>\n",
       "      <td>West Palm Beach</td>\n",
       "      <td>63.7</td>\n",
       "      <td>Customer Visit</td>\n",
       "    </tr>\n",
       "  </tbody>\n",
       "</table>\n",
       "</div>"
      ],
      "text/plain": [
       "           Start_date            End_date  Category Start_location  \\\n",
       "0 2016-01-01 21:11:00 2016-01-01 21:17:00  Business    Fort Pierce   \n",
       "1 2016-01-02 01:25:00 2016-01-02 01:37:00  Business    Fort Pierce   \n",
       "2 2016-01-02 20:25:00 2016-01-02 20:38:00  Business    Fort Pierce   \n",
       "3 2016-01-05 17:31:00 2016-01-05 17:45:00  Business    Fort Pierce   \n",
       "4 2016-01-06 14:42:00 2016-01-06 15:49:00  Business    Fort Pierce   \n",
       "\n",
       "     Stop_location  Miles          Purpose  \n",
       "0      Fort Pierce    5.1   Meal/Entertain  \n",
       "1      Fort Pierce    5.0          Unknown  \n",
       "2      Fort Pierce    4.8  Errand/Supplies  \n",
       "3      Fort Pierce    4.7          Meeting  \n",
       "4  West Palm Beach   63.7   Customer Visit  "
      ]
     },
     "execution_count": 123,
     "metadata": {},
     "output_type": "execute_result"
    }
   ],
   "source": [
    "#converting date objects (start_date & end_date) to datetime objects\n",
    "df['Start_date'] = pd.to_datetime(df['Start_date'], format = \"%m/%d/%Y %H:%M\")\n",
    "df['End_date'] = pd.to_datetime(df['End_date'], format = \"%m/%d/%Y %H:%M\")\n",
    "\n",
    "df.head()"
   ]
  },
  {
   "cell_type": "code",
   "execution_count": 124,
   "metadata": {},
   "outputs": [],
   "source": [
    "#creating hour, month and day of the week columns\n",
    "df['Hour'] = df['Start_date'].apply(lambda time: time.hour)\n",
    "df['Month'] = df['Start_date'].apply(lambda time: time.month)\n",
    "df['Day_of_the_week'] = df['Start_date'].apply(lambda time: time.dayofweek)"
   ]
  },
  {
   "cell_type": "code",
   "execution_count": 125,
   "metadata": {},
   "outputs": [],
   "source": [
    " dmap = {0:'Mon',1:'Tue',2:'Wed',3:'Thu',4:'Fri',5:'Sat',6:'Sun'}"
   ]
  },
  {
   "cell_type": "code",
   "execution_count": 126,
   "metadata": {},
   "outputs": [],
   "source": [
    "df['Weekday'] = df['Day_of_the_week'].map(dmap)"
   ]
  },
  {
   "cell_type": "code",
   "execution_count": 127,
   "metadata": {},
   "outputs": [
    {
     "data": {
      "text/plain": [
       "0       Jan\n",
       "1       Jan\n",
       "2       Jan\n",
       "3       Jan\n",
       "4       Jan\n",
       "       ... \n",
       "1150    Dec\n",
       "1151    Dec\n",
       "1152    Dec\n",
       "1153    Dec\n",
       "1154    Dec\n",
       "Name: Month, Length: 1155, dtype: object"
      ]
     },
     "execution_count": 127,
     "metadata": {},
     "output_type": "execute_result"
    }
   ],
   "source": [
    "mmap = {1:'Jan', 2:'Feb',3:'Mar', 4:'Apr',5:'May',6:'June',7:'July', 8:'Aug', 9:'Sep',10:'Oct',11:'Nov',12:'Dec'}\n",
    "df['Month'] = df['Month'].map(mmap)\n",
    "df['Month']"
   ]
  },
  {
   "cell_type": "code",
   "execution_count": 128,
   "metadata": {},
   "outputs": [
    {
     "data": {
      "text/plain": [
       "Start_date          datetime64[ns]\n",
       "End_date            datetime64[ns]\n",
       "Category                    object\n",
       "Start_location              object\n",
       "Stop_location               object\n",
       "Miles                      float64\n",
       "Purpose                     object\n",
       "Hour                         int64\n",
       "Month                       object\n",
       "Day_of_the_week              int64\n",
       "Weekday                     object\n",
       "Duration           timedelta64[ns]\n",
       "dtype: object"
      ]
     },
     "execution_count": 128,
     "metadata": {},
     "output_type": "execute_result"
    }
   ],
   "source": [
    "#Calculating duration of each ride\n",
    "df['Duration'] = df['End_date'] - df['Start_date']\n",
    "df.dtypes"
   ]
  },
  {
   "cell_type": "code",
   "execution_count": 129,
   "metadata": {},
   "outputs": [
    {
     "data": {
      "text/plain": [
       "0       00:06:00\n",
       "1       00:12:00\n",
       "2       00:13:00\n",
       "3       00:14:00\n",
       "4       01:07:00\n",
       "          ...   \n",
       "1150    00:07:00\n",
       "1151    00:18:00\n",
       "1152    00:35:00\n",
       "1153    00:18:00\n",
       "1154    01:43:00\n",
       "Name: Duration, Length: 1155, dtype: object"
      ]
     },
     "execution_count": 129,
     "metadata": {},
     "output_type": "execute_result"
    }
   ],
   "source": [
    "#removing days from duration\n",
    "df['Duration'] = df['Duration'].astype(str).map(lambda x: x[7:])\n",
    "df['Duration']"
   ]
  },
  {
   "cell_type": "code",
   "execution_count": 130,
   "metadata": {},
   "outputs": [
    {
     "data": {
      "text/html": [
       "<div>\n",
       "<style scoped>\n",
       "    .dataframe tbody tr th:only-of-type {\n",
       "        vertical-align: middle;\n",
       "    }\n",
       "\n",
       "    .dataframe tbody tr th {\n",
       "        vertical-align: top;\n",
       "    }\n",
       "\n",
       "    .dataframe thead th {\n",
       "        text-align: right;\n",
       "    }\n",
       "</style>\n",
       "<table border=\"1\" class=\"dataframe\">\n",
       "  <thead>\n",
       "    <tr style=\"text-align: right;\">\n",
       "      <th></th>\n",
       "      <th>Start_date</th>\n",
       "      <th>End_date</th>\n",
       "      <th>Category</th>\n",
       "      <th>Start_location</th>\n",
       "      <th>Stop_location</th>\n",
       "      <th>Miles</th>\n",
       "      <th>Purpose</th>\n",
       "      <th>Hour</th>\n",
       "      <th>Month</th>\n",
       "      <th>Day_of_the_week</th>\n",
       "      <th>Weekday</th>\n",
       "      <th>Duration</th>\n",
       "    </tr>\n",
       "  </thead>\n",
       "  <tbody>\n",
       "    <tr>\n",
       "      <th>0</th>\n",
       "      <td>2016-01-01 21:11:00</td>\n",
       "      <td>2016-01-01 21:17:00</td>\n",
       "      <td>Business</td>\n",
       "      <td>Fort Pierce</td>\n",
       "      <td>Fort Pierce</td>\n",
       "      <td>5.1</td>\n",
       "      <td>Meal/Entertain</td>\n",
       "      <td>21</td>\n",
       "      <td>Jan</td>\n",
       "      <td>4</td>\n",
       "      <td>Fri</td>\n",
       "      <td>00:06:00</td>\n",
       "    </tr>\n",
       "    <tr>\n",
       "      <th>1</th>\n",
       "      <td>2016-01-02 01:25:00</td>\n",
       "      <td>2016-01-02 01:37:00</td>\n",
       "      <td>Business</td>\n",
       "      <td>Fort Pierce</td>\n",
       "      <td>Fort Pierce</td>\n",
       "      <td>5.0</td>\n",
       "      <td>Unknown</td>\n",
       "      <td>1</td>\n",
       "      <td>Jan</td>\n",
       "      <td>5</td>\n",
       "      <td>Sat</td>\n",
       "      <td>00:12:00</td>\n",
       "    </tr>\n",
       "    <tr>\n",
       "      <th>2</th>\n",
       "      <td>2016-01-02 20:25:00</td>\n",
       "      <td>2016-01-02 20:38:00</td>\n",
       "      <td>Business</td>\n",
       "      <td>Fort Pierce</td>\n",
       "      <td>Fort Pierce</td>\n",
       "      <td>4.8</td>\n",
       "      <td>Errand/Supplies</td>\n",
       "      <td>20</td>\n",
       "      <td>Jan</td>\n",
       "      <td>5</td>\n",
       "      <td>Sat</td>\n",
       "      <td>00:13:00</td>\n",
       "    </tr>\n",
       "    <tr>\n",
       "      <th>3</th>\n",
       "      <td>2016-01-05 17:31:00</td>\n",
       "      <td>2016-01-05 17:45:00</td>\n",
       "      <td>Business</td>\n",
       "      <td>Fort Pierce</td>\n",
       "      <td>Fort Pierce</td>\n",
       "      <td>4.7</td>\n",
       "      <td>Meeting</td>\n",
       "      <td>17</td>\n",
       "      <td>Jan</td>\n",
       "      <td>1</td>\n",
       "      <td>Tue</td>\n",
       "      <td>00:14:00</td>\n",
       "    </tr>\n",
       "    <tr>\n",
       "      <th>4</th>\n",
       "      <td>2016-01-06 14:42:00</td>\n",
       "      <td>2016-01-06 15:49:00</td>\n",
       "      <td>Business</td>\n",
       "      <td>Fort Pierce</td>\n",
       "      <td>West Palm Beach</td>\n",
       "      <td>63.7</td>\n",
       "      <td>Customer Visit</td>\n",
       "      <td>14</td>\n",
       "      <td>Jan</td>\n",
       "      <td>2</td>\n",
       "      <td>Wed</td>\n",
       "      <td>01:07:00</td>\n",
       "    </tr>\n",
       "  </tbody>\n",
       "</table>\n",
       "</div>"
      ],
      "text/plain": [
       "           Start_date            End_date  Category Start_location  \\\n",
       "0 2016-01-01 21:11:00 2016-01-01 21:17:00  Business    Fort Pierce   \n",
       "1 2016-01-02 01:25:00 2016-01-02 01:37:00  Business    Fort Pierce   \n",
       "2 2016-01-02 20:25:00 2016-01-02 20:38:00  Business    Fort Pierce   \n",
       "3 2016-01-05 17:31:00 2016-01-05 17:45:00  Business    Fort Pierce   \n",
       "4 2016-01-06 14:42:00 2016-01-06 15:49:00  Business    Fort Pierce   \n",
       "\n",
       "     Stop_location  Miles          Purpose  Hour Month  Day_of_the_week  \\\n",
       "0      Fort Pierce    5.1   Meal/Entertain    21   Jan                4   \n",
       "1      Fort Pierce    5.0          Unknown     1   Jan                5   \n",
       "2      Fort Pierce    4.8  Errand/Supplies    20   Jan                5   \n",
       "3      Fort Pierce    4.7          Meeting    17   Jan                1   \n",
       "4  West Palm Beach   63.7   Customer Visit    14   Jan                2   \n",
       "\n",
       "  Weekday  Duration  \n",
       "0     Fri  00:06:00  \n",
       "1     Sat  00:12:00  \n",
       "2     Sat  00:13:00  \n",
       "3     Tue  00:14:00  \n",
       "4     Wed  01:07:00  "
      ]
     },
     "execution_count": 130,
     "metadata": {},
     "output_type": "execute_result"
    }
   ],
   "source": [
    "df.head()"
   ]
  },
  {
   "cell_type": "markdown",
   "metadata": {},
   "source": [
    "## VISUALIZATIONS"
   ]
  },
  {
   "cell_type": "code",
   "execution_count": 131,
   "metadata": {},
   "outputs": [
    {
     "data": {
      "text/plain": [
       "(310.3, 0.5)"
      ]
     },
     "execution_count": 131,
     "metadata": {},
     "output_type": "execute_result"
    }
   ],
   "source": [
    "#Maximum and minimum miles travelled\n",
    "df['Miles'].max(),df['Miles'].min()"
   ]
  },
  {
   "cell_type": "code",
   "execution_count": 132,
   "metadata": {},
   "outputs": [
    {
     "data": {
      "text/plain": [
       "('05:36:00', '00:00:00')"
      ]
     },
     "execution_count": 132,
     "metadata": {},
     "output_type": "execute_result"
    }
   ],
   "source": [
    "#Maximum and minimum duration spent on a ride\n",
    "df['Duration'].max(),df['Duration'].min()"
   ]
  },
  {
   "cell_type": "code",
   "execution_count": 133,
   "metadata": {},
   "outputs": [
    {
     "data": {
      "text/html": [
       "<div>\n",
       "<style scoped>\n",
       "    .dataframe tbody tr th:only-of-type {\n",
       "        vertical-align: middle;\n",
       "    }\n",
       "\n",
       "    .dataframe tbody tr th {\n",
       "        vertical-align: top;\n",
       "    }\n",
       "\n",
       "    .dataframe thead th {\n",
       "        text-align: right;\n",
       "    }\n",
       "</style>\n",
       "<table border=\"1\" class=\"dataframe\">\n",
       "  <thead>\n",
       "    <tr style=\"text-align: right;\">\n",
       "      <th></th>\n",
       "      <th>Start_date</th>\n",
       "      <th>End_date</th>\n",
       "      <th>Category</th>\n",
       "      <th>Start_location</th>\n",
       "      <th>Stop_location</th>\n",
       "      <th>Miles</th>\n",
       "      <th>Purpose</th>\n",
       "      <th>Hour</th>\n",
       "      <th>Month</th>\n",
       "      <th>Day_of_the_week</th>\n",
       "      <th>Weekday</th>\n",
       "      <th>Duration</th>\n",
       "    </tr>\n",
       "  </thead>\n",
       "  <tbody>\n",
       "    <tr>\n",
       "      <th>269</th>\n",
       "      <td>2016-03-25 16:52:00</td>\n",
       "      <td>2016-03-25 22:22:00</td>\n",
       "      <td>Business</td>\n",
       "      <td>Latta</td>\n",
       "      <td>Jacksonville</td>\n",
       "      <td>310.3</td>\n",
       "      <td>Customer Visit</td>\n",
       "      <td>16</td>\n",
       "      <td>Mar</td>\n",
       "      <td>4</td>\n",
       "      <td>Fri</td>\n",
       "      <td>05:30:00</td>\n",
       "    </tr>\n",
       "  </tbody>\n",
       "</table>\n",
       "</div>"
      ],
      "text/plain": [
       "             Start_date            End_date  Category Start_location  \\\n",
       "269 2016-03-25 16:52:00 2016-03-25 22:22:00  Business          Latta   \n",
       "\n",
       "    Stop_location  Miles         Purpose  Hour Month  Day_of_the_week Weekday  \\\n",
       "269  Jacksonville  310.3  Customer Visit    16   Mar                4     Fri   \n",
       "\n",
       "     Duration  \n",
       "269  05:30:00  "
      ]
     },
     "execution_count": 133,
     "metadata": {},
     "output_type": "execute_result"
    }
   ],
   "source": [
    "df[df['Miles']==310.3]"
   ]
  },
  {
   "cell_type": "code",
   "execution_count": 134,
   "metadata": {},
   "outputs": [
    {
     "data": {
      "text/html": [
       "<div>\n",
       "<style scoped>\n",
       "    .dataframe tbody tr th:only-of-type {\n",
       "        vertical-align: middle;\n",
       "    }\n",
       "\n",
       "    .dataframe tbody tr th {\n",
       "        vertical-align: top;\n",
       "    }\n",
       "\n",
       "    .dataframe thead th {\n",
       "        text-align: right;\n",
       "    }\n",
       "</style>\n",
       "<table border=\"1\" class=\"dataframe\">\n",
       "  <thead>\n",
       "    <tr style=\"text-align: right;\">\n",
       "      <th></th>\n",
       "      <th>Start_date</th>\n",
       "      <th>End_date</th>\n",
       "      <th>Category</th>\n",
       "      <th>Start_location</th>\n",
       "      <th>Stop_location</th>\n",
       "      <th>Miles</th>\n",
       "      <th>Purpose</th>\n",
       "      <th>Hour</th>\n",
       "      <th>Month</th>\n",
       "      <th>Day_of_the_week</th>\n",
       "      <th>Weekday</th>\n",
       "      <th>Duration</th>\n",
       "    </tr>\n",
       "  </thead>\n",
       "  <tbody>\n",
       "    <tr>\n",
       "      <th>44</th>\n",
       "      <td>2016-01-26 17:27:00</td>\n",
       "      <td>2016-01-26 17:29:00</td>\n",
       "      <td>Business</td>\n",
       "      <td>Cary</td>\n",
       "      <td>Cary</td>\n",
       "      <td>0.5</td>\n",
       "      <td>Errand/Supplies</td>\n",
       "      <td>17</td>\n",
       "      <td>Jan</td>\n",
       "      <td>1</td>\n",
       "      <td>Tue</td>\n",
       "      <td>00:02:00</td>\n",
       "    </tr>\n",
       "    <tr>\n",
       "      <th>120</th>\n",
       "      <td>2016-02-17 16:38:00</td>\n",
       "      <td>2016-02-17 16:43:00</td>\n",
       "      <td>Business</td>\n",
       "      <td>Katunayaka</td>\n",
       "      <td>Katunayaka</td>\n",
       "      <td>0.5</td>\n",
       "      <td>Errand/Supplies</td>\n",
       "      <td>16</td>\n",
       "      <td>Feb</td>\n",
       "      <td>2</td>\n",
       "      <td>Wed</td>\n",
       "      <td>00:05:00</td>\n",
       "    </tr>\n",
       "    <tr>\n",
       "      <th>420</th>\n",
       "      <td>2016-06-08 17:16:00</td>\n",
       "      <td>2016-06-08 17:18:00</td>\n",
       "      <td>Business</td>\n",
       "      <td>Soho</td>\n",
       "      <td>Tribeca</td>\n",
       "      <td>0.5</td>\n",
       "      <td>Errand/Supplies</td>\n",
       "      <td>17</td>\n",
       "      <td>June</td>\n",
       "      <td>2</td>\n",
       "      <td>Wed</td>\n",
       "      <td>00:02:00</td>\n",
       "    </tr>\n",
       "  </tbody>\n",
       "</table>\n",
       "</div>"
      ],
      "text/plain": [
       "             Start_date            End_date  Category Start_location  \\\n",
       "44  2016-01-26 17:27:00 2016-01-26 17:29:00  Business           Cary   \n",
       "120 2016-02-17 16:38:00 2016-02-17 16:43:00  Business     Katunayaka   \n",
       "420 2016-06-08 17:16:00 2016-06-08 17:18:00  Business           Soho   \n",
       "\n",
       "    Stop_location  Miles          Purpose  Hour Month  Day_of_the_week  \\\n",
       "44           Cary    0.5  Errand/Supplies    17   Jan                1   \n",
       "120    Katunayaka    0.5  Errand/Supplies    16   Feb                2   \n",
       "420       Tribeca    0.5  Errand/Supplies    17  June                2   \n",
       "\n",
       "    Weekday  Duration  \n",
       "44      Tue  00:02:00  \n",
       "120     Wed  00:05:00  \n",
       "420     Wed  00:02:00  "
      ]
     },
     "execution_count": 134,
     "metadata": {},
     "output_type": "execute_result"
    }
   ],
   "source": [
    "df[df['Miles']==0.5]"
   ]
  },
  {
   "cell_type": "code",
   "execution_count": 135,
   "metadata": {},
   "outputs": [
    {
     "data": {
      "text/html": [
       "<div>\n",
       "<style scoped>\n",
       "    .dataframe tbody tr th:only-of-type {\n",
       "        vertical-align: middle;\n",
       "    }\n",
       "\n",
       "    .dataframe tbody tr th {\n",
       "        vertical-align: top;\n",
       "    }\n",
       "\n",
       "    .dataframe thead th {\n",
       "        text-align: right;\n",
       "    }\n",
       "</style>\n",
       "<table border=\"1\" class=\"dataframe\">\n",
       "  <thead>\n",
       "    <tr style=\"text-align: right;\">\n",
       "      <th></th>\n",
       "      <th>Start_date</th>\n",
       "      <th>End_date</th>\n",
       "      <th>Category</th>\n",
       "      <th>Start_location</th>\n",
       "      <th>Stop_location</th>\n",
       "      <th>Miles</th>\n",
       "      <th>Purpose</th>\n",
       "      <th>Hour</th>\n",
       "      <th>Month</th>\n",
       "      <th>Day_of_the_week</th>\n",
       "      <th>Weekday</th>\n",
       "      <th>Duration</th>\n",
       "    </tr>\n",
       "  </thead>\n",
       "  <tbody>\n",
       "    <tr>\n",
       "      <th>751</th>\n",
       "      <td>2016-09-06 17:49:00</td>\n",
       "      <td>2016-09-06 17:49:00</td>\n",
       "      <td>Business</td>\n",
       "      <td>Unknown Location</td>\n",
       "      <td>Unknown Location</td>\n",
       "      <td>69.1</td>\n",
       "      <td>Unknown</td>\n",
       "      <td>17</td>\n",
       "      <td>Sep</td>\n",
       "      <td>1</td>\n",
       "      <td>Tue</td>\n",
       "      <td>00:00:00</td>\n",
       "    </tr>\n",
       "    <tr>\n",
       "      <th>761</th>\n",
       "      <td>2016-09-16 07:08:00</td>\n",
       "      <td>2016-09-16 07:08:00</td>\n",
       "      <td>Business</td>\n",
       "      <td>Unknown Location</td>\n",
       "      <td>Unknown Location</td>\n",
       "      <td>1.6</td>\n",
       "      <td>Unknown</td>\n",
       "      <td>7</td>\n",
       "      <td>Sep</td>\n",
       "      <td>4</td>\n",
       "      <td>Fri</td>\n",
       "      <td>00:00:00</td>\n",
       "    </tr>\n",
       "    <tr>\n",
       "      <th>798</th>\n",
       "      <td>2016-10-08 15:03:00</td>\n",
       "      <td>2016-10-08 15:03:00</td>\n",
       "      <td>Business</td>\n",
       "      <td>Karachi</td>\n",
       "      <td>Karachi</td>\n",
       "      <td>3.6</td>\n",
       "      <td>Unknown</td>\n",
       "      <td>15</td>\n",
       "      <td>Oct</td>\n",
       "      <td>5</td>\n",
       "      <td>Sat</td>\n",
       "      <td>00:00:00</td>\n",
       "    </tr>\n",
       "    <tr>\n",
       "      <th>807</th>\n",
       "      <td>2016-10-13 13:02:00</td>\n",
       "      <td>2016-10-13 13:02:00</td>\n",
       "      <td>Business</td>\n",
       "      <td>Islamabad</td>\n",
       "      <td>Islamabad</td>\n",
       "      <td>0.7</td>\n",
       "      <td>Unknown</td>\n",
       "      <td>13</td>\n",
       "      <td>Oct</td>\n",
       "      <td>3</td>\n",
       "      <td>Thu</td>\n",
       "      <td>00:00:00</td>\n",
       "    </tr>\n",
       "  </tbody>\n",
       "</table>\n",
       "</div>"
      ],
      "text/plain": [
       "             Start_date            End_date  Category    Start_location  \\\n",
       "751 2016-09-06 17:49:00 2016-09-06 17:49:00  Business  Unknown Location   \n",
       "761 2016-09-16 07:08:00 2016-09-16 07:08:00  Business  Unknown Location   \n",
       "798 2016-10-08 15:03:00 2016-10-08 15:03:00  Business           Karachi   \n",
       "807 2016-10-13 13:02:00 2016-10-13 13:02:00  Business         Islamabad   \n",
       "\n",
       "        Stop_location  Miles  Purpose  Hour Month  Day_of_the_week Weekday  \\\n",
       "751  Unknown Location   69.1  Unknown    17   Sep                1     Tue   \n",
       "761  Unknown Location    1.6  Unknown     7   Sep                4     Fri   \n",
       "798           Karachi    3.6  Unknown    15   Oct                5     Sat   \n",
       "807         Islamabad    0.7  Unknown    13   Oct                3     Thu   \n",
       "\n",
       "     Duration  \n",
       "751  00:00:00  \n",
       "761  00:00:00  \n",
       "798  00:00:00  \n",
       "807  00:00:00  "
      ]
     },
     "execution_count": 135,
     "metadata": {},
     "output_type": "execute_result"
    }
   ],
   "source": [
    "#The dataset has some trips were duration is 0s. Checking the dataframe for these occurences...\n",
    "df[df['Duration']=='00:00:00']"
   ]
  },
  {
   "cell_type": "code",
   "execution_count": 136,
   "metadata": {},
   "outputs": [
    {
     "data": {
      "text/html": [
       "<div>\n",
       "<style scoped>\n",
       "    .dataframe tbody tr th:only-of-type {\n",
       "        vertical-align: middle;\n",
       "    }\n",
       "\n",
       "    .dataframe tbody tr th {\n",
       "        vertical-align: top;\n",
       "    }\n",
       "\n",
       "    .dataframe thead th {\n",
       "        text-align: right;\n",
       "    }\n",
       "</style>\n",
       "<table border=\"1\" class=\"dataframe\">\n",
       "  <thead>\n",
       "    <tr style=\"text-align: right;\">\n",
       "      <th></th>\n",
       "      <th>Start_date</th>\n",
       "      <th>End_date</th>\n",
       "      <th>Category</th>\n",
       "      <th>Start_location</th>\n",
       "      <th>Stop_location</th>\n",
       "      <th>Miles</th>\n",
       "      <th>Purpose</th>\n",
       "      <th>Hour</th>\n",
       "      <th>Month</th>\n",
       "      <th>Day_of_the_week</th>\n",
       "      <th>Weekday</th>\n",
       "      <th>Duration</th>\n",
       "    </tr>\n",
       "  </thead>\n",
       "  <tbody>\n",
       "    <tr>\n",
       "      <th>776</th>\n",
       "      <td>2016-09-27 21:01:00</td>\n",
       "      <td>2016-09-28 02:37:00</td>\n",
       "      <td>Business</td>\n",
       "      <td>Unknown Location</td>\n",
       "      <td>Unknown Location</td>\n",
       "      <td>195.6</td>\n",
       "      <td>Unknown</td>\n",
       "      <td>21</td>\n",
       "      <td>Sep</td>\n",
       "      <td>1</td>\n",
       "      <td>Tue</td>\n",
       "      <td>05:36:00</td>\n",
       "    </tr>\n",
       "  </tbody>\n",
       "</table>\n",
       "</div>"
      ],
      "text/plain": [
       "             Start_date            End_date  Category    Start_location  \\\n",
       "776 2016-09-27 21:01:00 2016-09-28 02:37:00  Business  Unknown Location   \n",
       "\n",
       "        Stop_location  Miles  Purpose  Hour Month  Day_of_the_week Weekday  \\\n",
       "776  Unknown Location  195.6  Unknown    21   Sep                1     Tue   \n",
       "\n",
       "     Duration  \n",
       "776  05:36:00  "
      ]
     },
     "execution_count": 136,
     "metadata": {},
     "output_type": "execute_result"
    }
   ],
   "source": [
    "#checking the information for the 5 hours plus trip\n",
    "df[df['Duration']=='05:36:00']"
   ]
  },
  {
   "cell_type": "code",
   "execution_count": 137,
   "metadata": {},
   "outputs": [
    {
     "data": {
      "text/plain": [
       "Dec     146\n",
       "Aug     133\n",
       "Nov     122\n",
       "Feb     115\n",
       "Mar     113\n",
       "July    112\n",
       "June    108\n",
       "Oct     106\n",
       "Jan      61\n",
       "Apr      54\n",
       "May      49\n",
       "Sep      36\n",
       "Name: Month, dtype: int64"
      ]
     },
     "execution_count": 137,
     "metadata": {},
     "output_type": "execute_result"
    }
   ],
   "source": [
    "df.Month.value_counts()"
   ]
  },
  {
   "cell_type": "code",
   "execution_count": 138,
   "metadata": {},
   "outputs": [
    {
     "data": {
      "text/plain": [
       "Text(0.5, 1.0, 'Number of rides per month')"
      ]
     },
     "execution_count": 138,
     "metadata": {},
     "output_type": "execute_result"
    },
    {
     "data": {
      "image/png": "[encoded data removed]",
      "text/plain": [
       "<Figure size 720x504 with 1 Axes>"
      ]
     },
     "metadata": {
      "needs_background": "light"
     },
     "output_type": "display_data"
    }
   ],
   "source": [
    "df.Month.value_counts().plot(kind='bar', figsize=(10,7))\n",
    "plt.xlabel('Month')\n",
    "plt.ylabel('Number of rides')\n",
    "plt.title('Number of rides per month')"
   ]
  },
  {
   "cell_type": "code",
   "execution_count": 139,
   "metadata": {},
   "outputs": [
    {
     "data": {
      "text/plain": [
       "Unknown            502\n",
       "Meeting            187\n",
       "Meal/Entertain     160\n",
       "Errand/Supplies    128\n",
       "Customer Visit     101\n",
       "Temporary Site      50\n",
       "Between Offices     18\n",
       "Moving               4\n",
       "Airport/Travel       3\n",
       "Charity ($)          1\n",
       "Commute              1\n",
       "Name: Purpose, dtype: int64"
      ]
     },
     "execution_count": 139,
     "metadata": {},
     "output_type": "execute_result"
    }
   ],
   "source": [
    "df.Purpose.value_counts()"
   ]
  },
  {
   "cell_type": "code",
   "execution_count": 140,
   "metadata": {},
   "outputs": [
    {
     "data": {
      "image/png": "[encoded data removed]",
      "text/plain": [
       "<Figure size 864x720 with 1 Axes>"
      ]
     },
     "metadata": {
      "needs_background": "light"
     },
     "output_type": "display_data"
    }
   ],
   "source": [
    "plt.figure(figsize=(12,10))\n",
    "plt.xlabel('Number of Rides')\n",
    "plt.ylabel('Purpose of ride')\n",
    "plt.title('Number of Trips per purpose')\n",
    "sns.countplot(y='Purpose',data=df)\n",
    "plt.show()"
   ]
  },
  {
   "cell_type": "code",
   "execution_count": 141,
   "metadata": {},
   "outputs": [
    {
     "data": {
      "text/plain": [
       "<AxesSubplot:title={'center':'Number of Trips per Category per weekday'}, xlabel='Weekday', ylabel='count'>"
      ]
     },
     "execution_count": 141,
     "metadata": {},
     "output_type": "execute_result"
    },
    {
     "data": {
      "image/png": "[encoded data removed]",
      "text/plain": [
       "<Figure size 720x576 with 1 Axes>"
      ]
     },
     "metadata": {
      "needs_background": "light"
     },
     "output_type": "display_data"
    }
   ],
   "source": [
    "plt.figure(figsize=(10,8))\n",
    "plt.xlabel('Day of the Week')\n",
    "plt.ylabel('Number of Rides')\n",
    "plt.title('Number of Trips per Category per weekday')\n",
    "sns.countplot(x='Weekday',data=df,hue='Category')"
   ]
  },
  {
   "cell_type": "code",
   "execution_count": 142,
   "metadata": {},
   "outputs": [
    {
     "data": {
      "text/plain": [
       "[Text(0, 0, 'Meal/Entertain'),\n",
       " Text(1, 0, 'Unknown'),\n",
       " Text(2, 0, 'Errand/Supplies'),\n",
       " Text(3, 0, 'Meeting'),\n",
       " Text(4, 0, 'Customer Visit'),\n",
       " Text(5, 0, 'Temporary Site'),\n",
       " Text(6, 0, 'Between Offices'),\n",
       " Text(7, 0, 'Charity ($)'),\n",
       " Text(8, 0, 'Commute'),\n",
       " Text(9, 0, 'Moving'),\n",
       " Text(10, 0, 'Airport/Travel')]"
      ]
     },
     "execution_count": 142,
     "metadata": {},
     "output_type": "execute_result"
    },
    {
     "data": {
      "image/png": "[encoded data removed]",
      "text/plain": [
       "<Figure size 720x576 with 1 Axes>"
      ]
     },
     "metadata": {
      "needs_background": "light"
     },
     "output_type": "display_data"
    }
   ],
   "source": [
    "plt.figure(figsize=(10,8))\n",
    "plt.xlabel('Purpose of trip')\n",
    "plt.ylabel('Number of Rides')\n",
    "plt.title('Number of Trips per purpose per category')\n",
    "chart = sns.countplot(x='Purpose',data=df,hue='Category', palette='bright')\n",
    "chart.set_xticklabels(chart.get_xticklabels(), rotation=45,horizontalalignment='right')\n"
   ]
  },
  {
   "cell_type": "code",
   "execution_count": 143,
   "metadata": {},
   "outputs": [
    {
     "data": {
      "text/plain": [
       "[<matplotlib.lines.Line2D at 0x7fdb19ad7e20>]"
      ]
     },
     "execution_count": 143,
     "metadata": {},
     "output_type": "execute_result"
    },
    {
     "data": {
      "image/png": "[encoded data removed]",
      "text/plain": [
       "<Figure size 720x576 with 1 Axes>"
      ]
     },
     "metadata": {
      "needs_background": "light"
     },
     "output_type": "display_data"
    }
   ],
   "source": [
    "#Line plot of trips per month\n",
    "plt.figure(figsize=(10,8))\n",
    "plt.xlabel('Month')\n",
    "plt.ylabel('Number of Rides')\n",
    "plt.title('Number of Trips per Month')\n",
    "plt.plot(df.groupby(['Month'])['Miles'].sum(),'g')"
   ]
  },
  {
   "cell_type": "markdown",
   "metadata": {},
   "source": [
    "## INSIGHTS/FINDINGS"
   ]
  },
  {
   "cell_type": "markdown",
   "metadata": {},
   "source": [
    "<p class=\"lead\"> From the exploratory data analysis carried out on the dataset, we can tell that:\n",
    "    \n",
    "<p class=\"lead\"> 1. The minimum duration of a trip was 0s. This could be either because the driver or the passenger cancelled the ride before it began. The maximum duration of a trip was 5 hours 36 minutes, however, the start and stop locations are unknown.\n",
    "\n",
    "<p class=\"lead\"> 2. The maximum number of miles travelled was 310.3 miles from Latta to Jacksonville, however it has a shorter duration that the previously unknown trips. The minimum miles travelled was 0.5 miles, mainly to run errands/get supplies.\n",
    "\n",
    "<p class=\"lead\"> 3. December was the busiest month with 146 rides and September was the least busy month with 36 trips. \n",
    "\n",
    "<p class=\"lead\"> 4. Most of the trips made were for Business purposes. \n",
    "\n",
    "<p class=\"lead\"> 5. Other than rides for unknown purposes, the top three purposes for a ride were Meetings - 187, Meals/Entertainment - 160 and Errands/Supplies -  128.\n",
    "\n",
    "<p class=\"lead\"> 6. Fridays were the busiest days of the week for the rider. </p>\n"
   ]
  },
  {
   "cell_type": "code",
   "execution_count": null,
   "metadata": {},
   "outputs": [],
   "source": []
  }
 ],
 "metadata": {
  "kernelspec": {
   "display_name": "Python 3 (ipykernel)",
   "language": "python",
   "name": "python3"
  },
  "language_info": {
   "codemirror_mode": {
    "name": "ipython",
    "version": 3
   },
   "file_extension": ".py",
   "mimetype": "text/x-python",
   "name": "python",
   "nbconvert_exporter": "python",
   "pygments_lexer": "ipython3",
   "version": "3.9.6"
  }
 },
 "nbformat": 4,
 "nbformat_minor": 2
}
